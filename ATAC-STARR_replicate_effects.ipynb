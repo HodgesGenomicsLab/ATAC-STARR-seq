{
 "cells": [
  {
   "cell_type": "markdown",
   "id": "7624bf9b",
   "metadata": {},
   "source": [
    "# Introduction\n",
    "\n",
    "In the process of revisions for NAR, we discovered that the number of replicates we add to analysis dramatically improves the number of regions called active. Our conclusion was to generate a third replicate for analysis as this increased the region count by the most (two-fold). Four and five replicates would be better, but do not dramatically improve active region detection from the three replicate analysis (only ~15% increase). \n",
    "\n",
    "It was surprising to see that we got so many regions just by adding another replicate. Furthermore, this number of regions is (depending on who you ask) higher than expected. We wondered at what point we are p-hacking and getting false positives vs. increasing power to see all the false negatives become true positives. Due to this, we want to determine an expected number of enhancers for the GM12878 cell type and adjust our FDR to achieve that many regions. "
   ]
  },
  {
   "cell_type": "markdown",
   "id": "1f939ba8",
   "metadata": {},
   "source": [
    "# Literature Review\n",
    "\n",
    "To determine what the expected value is based on reports in the field, I will first do a literature search of all GM12878 enhancerome papers and report those findings here. "
   ]
  },
  {
   "cell_type": "markdown",
   "id": "74174052",
   "metadata": {},
   "source": [
    "## HiDRA \n",
    "\n",
    "65,000 active hidra regions  \n",
    "13,000 hidra driver nucleotides"
   ]
  },
  {
   "cell_type": "markdown",
   "id": "bfc8fe31",
   "metadata": {},
   "source": [
    "## FAIRE-STARR\n",
    "\n",
    "11,809 \"starr-pos\" regions"
   ]
  },
  {
   "cell_type": "markdown",
   "id": "d51a9f1a",
   "metadata": {},
   "source": [
    "## Review: The selection and function of cell-type specific enhancers\n",
    "\n",
    "\"Based on their epigenetic features, and depending on the experimental methods used to define enhancers, ~10,000–50,000 putative enhancers can be identified in a given cell type, implying there are more enhancers than expressed genes.\"\n",
    "\n",
    "Exact quote above. "
   ]
  },
  {
   "cell_type": "markdown",
   "id": "824286f2",
   "metadata": {},
   "source": [
    "## Conclusion \n",
    "Based on this short review, I think we should aim for a number of active regions that is near ~50,000 regions thinking that only ~10,000 or so are promoter elements while the rest are enhancer elements. "
   ]
  }
 ],
 "metadata": {
  "kernelspec": {
   "display_name": "Tyler Jupyter",
   "language": "python",
   "name": "jupyter"
  },
  "language_info": {
   "codemirror_mode": {
    "name": "ipython",
    "version": 3
   },
   "file_extension": ".py",
   "mimetype": "text/x-python",
   "name": "python",
   "nbconvert_exporter": "python",
   "pygments_lexer": "ipython3",
   "version": "3.6.13"
  },
  "toc": {
   "base_numbering": 1,
   "nav_menu": {},
   "number_sections": true,
   "sideBar": true,
   "skip_h1_title": false,
   "title_cell": "Table of Contents",
   "title_sidebar": "Contents",
   "toc_cell": false,
   "toc_position": {},
   "toc_section_display": true,
   "toc_window_display": true
  }
 },
 "nbformat": 4,
 "nbformat_minor": 5
}
