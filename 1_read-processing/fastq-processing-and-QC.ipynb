{
 "cells": [
  {
   "cell_type": "markdown",
   "id": "4ccdc6aa",
   "metadata": {},
   "source": [
    "# ATAC-STARR Analysis: fastq processing and quality control"
   ]
  },
  {
   "cell_type": "markdown",
   "id": "49f3d77a",
   "metadata": {},
   "source": [
    "## Introduction\n",
    "\n",
    "The first step of this analysis is to process the raw read fastq files we have acquired from VANTAGE. As part of this process, we will analyze the files for quality using FASTQC, PICARD, and PRESEQ. To perform the trimming, mapping, filtering, and early QC steps, I will execute a python script I wrote and tested. After that, I will use preseq to determine complexity and then plot those results as well as the insert size using ggplot2. Lets get started.\n",
    "\n",
    "Note: I am switching between R and python kernels here. Bash is executed using the %%bash magic commands via python shell.  "
   ]
  },
  {
   "cell_type": "markdown",
   "id": "ecd24b1f",
   "metadata": {},
   "source": [
    "### Python Script"
   ]
  },
  {
   "cell_type": "code",
   "execution_count": 2,
   "id": "5be98a0c",
   "metadata": {
    "scrolled": true
   },
   "outputs": [
    {
     "name": "stdout",
     "output_type": "stream",
     "text": [
      "usage: fastq_processing.py [-h] [-a INPUT_R1] [-b INPUT_R2] [-n NAME]\n",
      "                           [-e BLACKLIST_BED] [-t OUTPUT_TRIMMED]\n",
      "                           [-o OUTPUT_BAM] [-r OUTPUT_QC] [-g GENOME]\n",
      "\n",
      "process ATAC-STARR fastq files\n",
      "\n",
      "required arguments:\n",
      "  -a INPUT_R1, --input_R1 INPUT_R1\n",
      "                        raw fastq paired-end read 1 file\n",
      "  -b INPUT_R2, --input_R2 INPUT_R2\n",
      "                        raw fastq paired-end read 2 file\n",
      "  -n NAME, --name NAME  basename to assign to sample\n",
      "  -t OUTPUT_TRIMMED, --output_trimmed OUTPUT_TRIMMED\n",
      "                        directory to deposit trimmed reads\n",
      "  -o OUTPUT_BAM, --output_bam OUTPUT_BAM\n",
      "                        directory to deposit mapped reads\n",
      "  -r OUTPUT_QC, --output_qc OUTPUT_QC\n",
      "                        directory to deposit QC and readcount files\n",
      "  -g GENOME, --genome GENOME\n",
      "                        bowtie index of genome to map to\n",
      "\n",
      "optional arguments:\n",
      "  -h, --help            show this help message and exit\n",
      "  -e BLACKLIST_BED, --blacklist_bed BLACKLIST_BED\n",
      "                        bedfile of ENCODE blacklist regions (default is none\n",
      "                        and skips this step)\n"
     ]
    }
   ],
   "source": [
    "%%bash\n",
    "#view help to see the behavior of python script \n",
    "python3 fastq_processing.py --help"
   ]
  },
  {
   "cell_type": "markdown",
   "id": "b95b20bf",
   "metadata": {},
   "source": [
    "## Process FASTQ"
   ]
  },
  {
   "cell_type": "code",
   "execution_count": null,
   "id": "0ce15e1a",
   "metadata": {
    "scrolled": true
   },
   "outputs": [],
   "source": [
    "%%bash\n",
    "#sumbit jobs to accre to process fastq files.\n",
    "sbatch fastq_processing_example.slrm #open this script (in this directory) to see the code that was submitted. "
   ]
  },
  {
   "cell_type": "markdown",
   "id": "f868b5d0",
   "metadata": {},
   "source": [
    "## Check FASTQC, flagstat readcounts, and trimming reports \n",
    "\n",
    "No code was required here. I performed a manual check of the FASTQC files and made an excel spreadsheet of trimming rate and readcounts. These metrics are really important to check so this step should not be skipped. "
   ]
  },
  {
   "cell_type": "markdown",
   "id": "b1d9ea6f",
   "metadata": {},
   "source": [
    "## Generate complexity curves\n",
    "\n",
    "Use preseq lc-extrap to optain results to then plot with ggplot2."
   ]
  },
  {
   "cell_type": "markdown",
   "id": "602cd3fb",
   "metadata": {},
   "source": [
    "### Get results"
   ]
  },
  {
   "cell_type": "code",
   "execution_count": 4,
   "id": "fdd0ea43",
   "metadata": {},
   "outputs": [],
   "source": [
    "%%bash\n",
    "QC_DIR='/data/hodges_lab/ATAC-STARR_B-cells/results/library_complexity'\n",
    "BAM_DIR='/data/hodges_lab/ATAC-STARR_B-cells/data/ATAC-STARR/bams/individual_replicates'\n",
    "\n",
    "ml GCC/8.2.0 GSL/2.5 #preseq requires GSL, which we load through accre. See preseq documentation for further details. "
   ]
  },
  {
   "cell_type": "code",
   "execution_count": 3,
   "id": "10df7f79",
   "metadata": {
    "scrolled": true
   },
   "outputs": [
    {
     "name": "stdout",
     "output_type": "stream",
     "text": [
      "PAIRED_END_BAM_INPUT\n",
      "Processed 1000000 records\n",
      "Processed 2000000 records\n",
      "Processed 3000000 records\n",
      "Processed 4000000 records\n",
      "Processed 5000000 records\n",
      "Processed 6000000 records\n",
      "Processed 7000000 records\n",
      "Processed 8000000 records\n",
      "Processed 9000000 records\n",
      "Processed 10000000 records\n",
      "Processed 11000000 records\n",
      "Processed 12000000 records\n",
      "Processed 13000000 records\n",
      "Processed 14000000 records\n",
      "Processed 15000000 records\n",
      "Processed 16000000 records\n",
      "Processed 17000000 records\n",
      "Processed 18000000 records\n",
      "Processed 19000000 records\n",
      "Processed 20000000 records\n",
      "Processed 21000000 records\n",
      "Processed 22000000 records\n",
      "Processed 23000000 records\n",
      "Processed 24000000 records\n",
      "Processed 25000000 records\n",
      "Processed 26000000 records\n",
      "Processed 27000000 records\n",
      "Processed 28000000 records\n",
      "Processed 29000000 records\n",
      "Processed 30000000 records\n",
      "Processed 31000000 records\n",
      "Processed 32000000 records\n",
      "Processed 33000000 records\n",
      "Processed 34000000 records\n",
      "Processed 35000000 records\n",
      "Processed 36000000 records\n",
      "Processed 37000000 records\n",
      "Processed 38000000 records\n",
      "Processed 39000000 records\n",
      "Processed 40000000 records\n",
      "Processed 41000000 records\n",
      "Processed 42000000 records\n",
      "Processed 43000000 records\n",
      "Processed 44000000 records\n",
      "Processed 45000000 records\n",
      "Processed 46000000 records\n",
      "Processed 47000000 records\n",
      "Processed 48000000 records\n",
      "Processed 49000000 records\n",
      "Processed 50000000 records\n",
      "Processed 51000000 records\n",
      "Processed 52000000 records\n",
      "Processed 53000000 records\n",
      "Processed 54000000 records\n",
      "Processed 55000000 records\n",
      "Processed 56000000 records\n",
      "Processed 57000000 records\n",
      "Processed 58000000 records\n",
      "Processed 59000000 records\n",
      "Processed 60000000 records\n",
      "Processed 61000000 records\n",
      "Processed 62000000 records\n",
      "Processed 63000000 records\n",
      "Processed 64000000 records\n",
      "Processed 65000000 records\n",
      "Processed 66000000 records\n",
      "Processed 67000000 records\n",
      "Processed 68000000 records\n",
      "Processed 69000000 records\n",
      "Processed 70000000 records\n",
      "Processed 71000000 records\n",
      "Processed 72000000 records\n",
      "Processed 73000000 records\n",
      "Processed 74000000 records\n",
      "Processed 75000000 records\n",
      "Processed 76000000 records\n",
      "Processed 77000000 records\n",
      "Processed 78000000 records\n",
      "Processed 79000000 records\n",
      "Processed 80000000 records\n",
      "Processed 81000000 records\n",
      "Processed 82000000 records\n",
      "Processed 83000000 records\n",
      "Processed 84000000 records\n",
      "Processed 85000000 records\n",
      "Processed 86000000 records\n",
      "Processed 87000000 records\n",
      "Processed 88000000 records\n",
      "paired = 44022374\n",
      "unpaired = 190\n",
      "MERGED PAIRED END READS = 44022374\n",
      "MATES PROCESSED = 88044938\n",
      "TOTAL READS     = 44022564\n",
      "DISTINCT READS  = 2.83692e+07\n",
      "DISTINCT COUNTS = 98\n",
      "MAX COUNT       = 182\n",
      "COUNTS OF 1     = 1.88522e+07\n",
      "MAX TERMS       = 78\n",
      "OBSERVED COUNTS (183)\n",
      "1\t18852156\n",
      "2\t6137367\n",
      "3\t2062039\n",
      "4\t737301\n",
      "5\t289490\n",
      "6\t126395\n",
      "7\t62081\n",
      "8\t33678\n",
      "9\t20187\n",
      "10\t13021\n",
      "11\t8812\n",
      "12\t6089\n",
      "13\t4395\n",
      "14\t3187\n",
      "15\t2484\n",
      "16\t1930\n",
      "17\t1542\n",
      "18\t1198\n",
      "19\t1005\n",
      "20\t732\n",
      "21\t614\n",
      "22\t493\n",
      "23\t415\n",
      "24\t338\n",
      "25\t255\n",
      "26\t246\n",
      "27\t192\n",
      "28\t159\n",
      "29\t140\n",
      "30\t127\n",
      "31\t118\n",
      "32\t92\n",
      "33\t88\n",
      "34\t75\n",
      "35\t68\n",
      "36\t57\n",
      "37\t58\n",
      "38\t52\n",
      "39\t47\n",
      "40\t48\n",
      "41\t38\n",
      "42\t29\n",
      "43\t33\n",
      "44\t26\n",
      "45\t22\n",
      "46\t14\n",
      "47\t18\n",
      "48\t10\n",
      "49\t20\n",
      "50\t17\n",
      "51\t13\n",
      "52\t5\n",
      "53\t5\n",
      "54\t10\n",
      "55\t8\n",
      "56\t7\n",
      "57\t7\n",
      "58\t7\n",
      "59\t6\n",
      "60\t8\n",
      "61\t6\n",
      "62\t3\n",
      "63\t3\n",
      "64\t5\n",
      "65\t5\n",
      "66\t4\n",
      "67\t3\n",
      "68\t5\n",
      "69\t4\n",
      "70\t2\n",
      "71\t1\n",
      "72\t2\n",
      "73\t3\n",
      "74\t4\n",
      "75\t2\n",
      "76\t2\n",
      "77\t1\n",
      "78\t3\n",
      "81\t3\n",
      "83\t2\n",
      "84\t2\n",
      "85\t4\n",
      "87\t1\n",
      "88\t1\n",
      "89\t2\n",
      "90\t1\n",
      "91\t2\n",
      "92\t1\n",
      "94\t2\n",
      "100\t1\n",
      "110\t1\n",
      "112\t1\n",
      "113\t1\n",
      "114\t1\n",
      "116\t1\n",
      "119\t1\n",
      "140\t1\n",
      "182\t1\n",
      "\n",
      "[ESTIMATING YIELD CURVE]\n",
      "[BOOTSTRAPPING HISTOGRAM]\n",
      "_.................................._..................................................................\n",
      "[COMPUTING CONFIDENCE INTERVALS]\n",
      "[WRITING OUTPUT]\n"
     ]
    }
   ],
   "source": [
    "%%bash\n",
    "\n",
    "#execute lc-extrap function from preseq package. Here is an example for one of our samples.\n",
    "preseq lc_extrap -pe -verbose -o ${QC_DIR}/lc-extrap/GM12878inGM12878_DNA_Rep3_lc-extrap-results.txt \\\n",
    "    -bam ${BAM_DIR}/GM12878inGM12878_DNA_Rep3.filtered.pos-sorted.bam"
   ]
  },
  {
   "cell_type": "markdown",
   "id": "dface959",
   "metadata": {},
   "source": [
    "### Plot complexity curves\n",
    "\n",
    "Kernel switched to R. "
   ]
  },
  {
   "cell_type": "code",
   "execution_count": null,
   "id": "3f1ab550",
   "metadata": {},
   "outputs": [],
   "source": [
    "#load R packages\n",
    "library(tidyverse)\n",
    "library(ggsci)"
   ]
  },
  {
   "cell_type": "code",
   "execution_count": 3,
   "id": "fcbedd84",
   "metadata": {},
   "outputs": [],
   "source": [
    "#make function for reading in the lc-extrap results files. \n",
    "read_lcExtrap <- function(input_file, condition, library_type){\n",
    "  #This function reads in the lcextrap txt file and assigns descriptors of the data to new columns for use in plotting. \n",
    "  #condition example is \"GM12878inGM12878\", library_type example is \"DNA_Rep1\"\n",
    "  return(read_tsv(input_file) %>% mutate(condition=condition, Type=library_type))\n",
    "}"
   ]
  },
  {
   "cell_type": "code",
   "execution_count": 8,
   "id": "571e963a",
   "metadata": {
    "scrolled": true
   },
   "outputs": [
    {
     "name": "stderr",
     "output_type": "stream",
     "text": [
      "\n",
      "\u001b[36m──\u001b[39m \u001b[1m\u001b[1mColumn specification\u001b[1m\u001b[22m \u001b[36m────────────────────────────────────────────────────────\u001b[39m\n",
      "cols(\n",
      "  TOTAL_READS = \u001b[32mcol_double()\u001b[39m,\n",
      "  EXPECTED_DISTINCT = \u001b[32mcol_double()\u001b[39m,\n",
      "  LOWER_0.95CI = \u001b[32mcol_double()\u001b[39m,\n",
      "  UPPER_0.95CI = \u001b[32mcol_double()\u001b[39m\n",
      ")\n",
      "\n",
      "\n",
      "\n",
      "\u001b[36m──\u001b[39m \u001b[1m\u001b[1mColumn specification\u001b[1m\u001b[22m \u001b[36m────────────────────────────────────────────────────────\u001b[39m\n",
      "cols(\n",
      "  TOTAL_READS = \u001b[32mcol_double()\u001b[39m,\n",
      "  EXPECTED_DISTINCT = \u001b[32mcol_double()\u001b[39m,\n",
      "  LOWER_0.95CI = \u001b[32mcol_double()\u001b[39m,\n",
      "  UPPER_0.95CI = \u001b[32mcol_double()\u001b[39m\n",
      ")\n",
      "\n",
      "\n",
      "\n",
      "\u001b[36m──\u001b[39m \u001b[1m\u001b[1mColumn specification\u001b[1m\u001b[22m \u001b[36m────────────────────────────────────────────────────────\u001b[39m\n",
      "cols(\n",
      "  TOTAL_READS = \u001b[32mcol_double()\u001b[39m,\n",
      "  EXPECTED_DISTINCT = \u001b[32mcol_double()\u001b[39m,\n",
      "  LOWER_0.95CI = \u001b[32mcol_double()\u001b[39m,\n",
      "  UPPER_0.95CI = \u001b[32mcol_double()\u001b[39m\n",
      ")\n",
      "\n",
      "\n",
      "\n",
      "\u001b[36m──\u001b[39m \u001b[1m\u001b[1mColumn specification\u001b[1m\u001b[22m \u001b[36m────────────────────────────────────────────────────────\u001b[39m\n",
      "cols(\n",
      "  TOTAL_READS = \u001b[32mcol_double()\u001b[39m,\n",
      "  EXPECTED_DISTINCT = \u001b[32mcol_double()\u001b[39m,\n",
      "  LOWER_0.95CI = \u001b[32mcol_double()\u001b[39m,\n",
      "  UPPER_0.95CI = \u001b[32mcol_double()\u001b[39m\n",
      ")\n",
      "\n",
      "\n",
      "\n",
      "\u001b[36m──\u001b[39m \u001b[1m\u001b[1mColumn specification\u001b[1m\u001b[22m \u001b[36m────────────────────────────────────────────────────────\u001b[39m\n",
      "cols(\n",
      "  TOTAL_READS = \u001b[32mcol_double()\u001b[39m,\n",
      "  EXPECTED_DISTINCT = \u001b[32mcol_double()\u001b[39m,\n",
      "  LOWER_0.95CI = \u001b[32mcol_double()\u001b[39m,\n",
      "  UPPER_0.95CI = \u001b[32mcol_double()\u001b[39m\n",
      ")\n",
      "\n",
      "\n",
      "\n",
      "\u001b[36m──\u001b[39m \u001b[1m\u001b[1mColumn specification\u001b[1m\u001b[22m \u001b[36m────────────────────────────────────────────────────────\u001b[39m\n",
      "cols(\n",
      "  TOTAL_READS = \u001b[32mcol_double()\u001b[39m,\n",
      "  EXPECTED_DISTINCT = \u001b[32mcol_double()\u001b[39m,\n",
      "  LOWER_0.95CI = \u001b[32mcol_double()\u001b[39m,\n",
      "  UPPER_0.95CI = \u001b[32mcol_double()\u001b[39m\n",
      ")\n",
      "\n",
      "\n"
     ]
    },
    {
     "data": {
      "image/png": "[encoded data removed]",
      "text/plain": [
       "plot without title"
      ]
     },
     "metadata": {
      "image/png": {
       "height": 420,
       "width": 420
      }
     },
     "output_type": "display_data"
    }
   ],
   "source": [
    "#apply function to read in results and assign to unique data.frame objects. \n",
    "setwd(\"/data/hodges_lab/ATAC-STARR_B-cells/results/library_complexity\")\n",
    "GGD1 <- read_lcExtrap(input_file = 'lc-extrap/GM12878inGM12878_DNA_Rep1_lc-extrap-results.txt', \n",
    "                      condition = \"GM12878inGM12878\", library_type = \"DNA Rep1\")\n",
    "GGD2 <- read_lcExtrap(input_file = 'lc-extrap/GM12878inGM12878_DNA_Rep2_lc-extrap-results.txt', \n",
    "                      condition = \"GM12878inGM12878\", library_type = \"DNA Rep2\")\n",
    "GGD3 <- read_lcExtrap(input_file = 'lc-extrap/GM12878inGM12878_DNA_Rep3_lc-extrap-results.txt', \n",
    "                      condition = \"GM12878inGM12878\", library_type = \"DNA Rep3\")\n",
    "GGR1 <- read_lcExtrap(input_file = 'lc-extrap/GM12878inGM12878_RNA_Rep1_lc-extrap-results.txt', \n",
    "                      condition = \"GM12878inGM12878\", library_type = \"RNA Rep1\")\n",
    "GGR2 <- read_lcExtrap(input_file = 'lc-extrap/GM12878inGM12878_RNA_Rep2_lc-extrap-results.txt', \n",
    "                      condition = \"GM12878inGM12878\", library_type = \"RNA Rep2\")\n",
    "GGR3 <- read_lcExtrap(input_file = 'lc-extrap/GM12878inGM12878_RNA_Rep3_lc-extrap-results.txt', \n",
    "                      condition = \"GM12878inGM12878\", library_type = \"RNA Rep3\")\n",
    "\n",
    "#Merge into one dataframe. \n",
    "lcExtrap_all <- bind_rows(GGD1, GGD2, GGD3, GGR1, GGR2, GGR3)\n",
    "\n",
    "#Plot:\n",
    "lcExtrap_plot <- ggplot(lcExtrap_all) + \n",
    "  geom_ribbon(aes(x=TOTAL_READS/10^6, ymin=LOWER_0.95CI/10^6, ymax=UPPER_0.95CI/10^6, fill=Type)) +\n",
    "  geom_line(aes(x=TOTAL_READS/10^6, y=EXPECTED_DISTINCT/10^6, colour=Type), size=1, linetype=\"dashed\") +\n",
    "  xlab(\"Sequenced reads (M)\") + \n",
    "  ylab(\"Distinct reads (M)\") +\n",
    "  ggtitle(\"Estimated Complexity of ATAC-STARR-seq Libraries\") +\n",
    "  theme_bw(base_size = 6, base_family = \"Arial\") +\n",
    "  theme(plot.title = element_text(hjust = 0.5, size = 12, face = \"bold\")) +\n",
    "  coord_cartesian(xlim = c(0, 1000), ylim = c(0,100)) +\n",
    "  scale_color_npg() +\n",
    "  scale_fill_npg(alpha = 0.25)\n",
    "\n",
    "lcExtrap_plot"
   ]
  },
  {
   "cell_type": "code",
   "execution_count": 9,
   "id": "786bc634",
   "metadata": {},
   "outputs": [],
   "source": [
    "#save plot\n",
    "ggsave(filename = \"/data/hodges_lab/ATAC-STARR_B-cells/results/library_complexity/GG-AS-samples_complexity-curve.pdf\", \n",
    "    plot = lcExtrap_plot, units = \"in\", width = 4, height = 3, device = cairo_pdf)"
   ]
  },
  {
   "cell_type": "markdown",
   "id": "8652f433",
   "metadata": {},
   "source": [
    "## Plot insert size distributions\n",
    "\n",
    "I use the collectInsertSizeMetrics function from the picard package to get insert size ditributions and then plot these with ggplot2. "
   ]
  },
  {
   "cell_type": "markdown",
   "id": "df98fa5d",
   "metadata": {},
   "source": [
    "### Get Results"
   ]
  },
  {
   "cell_type": "code",
   "execution_count": 2,
   "id": "f9d8b0ea",
   "metadata": {
    "scrolled": true
   },
   "outputs": [
    {
     "name": "stdout",
     "output_type": "stream",
     "text": [
      "INFO\t2021-11-01 19:55:49\tCollectInsertSizeMetrics\t\n",
      "\n",
      "********** NOTE: Picard's command line syntax is changing.\n",
      "**********\n",
      "********** For more information, please see:\n",
      "********** https://github.com/broadinstitute/picard/wiki/Command-Line-Syntax-Transition-For-Users-(Pre-Transition)\n",
      "**********\n",
      "********** The command line looks like this in the new syntax:\n",
      "**********\n",
      "**********    CollectInsertSizeMetrics -I /data/hodges_lab/ATAC-STARR_B-cells/data/ATAC-STARR/bams/individual_replicates/GM12878inGM12878_DNA_Rep3.filtered.pos-sorted.bam -H /data/hodges_lab/ATAC-STARR_B-cells/results/library_complexity/picard-CISM/GM12878inGM12878_DNA_Rep3_histogram.pdf -O /data/hodges_lab/ATAC-STARR_B-cells/results/library_complexity/picard-CISM/GM12878inGM12878_DNA_Rep3_picard-CISM.txt\n",
      "**********\n",
      "\n",
      "\n",
      "19:55:49.972 INFO  NativeLibraryLoader - Loading libgkl_compression.so from jar:file:/cvmfs/oasis.opensciencegrid.org/accre/mirror/common/easybuild/software/picard/2.18.27/picard.jar!/com/intel/gkl/native/libgkl_compression.so\n",
      "[Mon Nov 01 19:55:50 CDT 2021] CollectInsertSizeMetrics HISTOGRAM_FILE=/data/hodges_lab/ATAC-STARR_B-cells/results/library_complexity/picard-CISM/GM12878inGM12878_DNA_Rep3_histogram.pdf INPUT=/data/hodges_lab/ATAC-STARR_B-cells/data/ATAC-STARR/bams/individual_replicates/GM12878inGM12878_DNA_Rep3.filtered.pos-sorted.bam OUTPUT=/data/hodges_lab/ATAC-STARR_B-cells/results/library_complexity/picard-CISM/GM12878inGM12878_DNA_Rep3_picard-CISM.txt    DEVIATIONS=10.0 MINIMUM_PCT=0.05 METRIC_ACCUMULATION_LEVEL=[ALL_READS] INCLUDE_DUPLICATES=false ASSUME_SORTED=true STOP_AFTER=0 VERBOSITY=INFO QUIET=false VALIDATION_STRINGENCY=STRICT COMPRESSION_LEVEL=5 MAX_RECORDS_IN_RAM=500000 CREATE_INDEX=false CREATE_MD5_FILE=false GA4GH_CLIENT_SECRETS=client_secrets.json USE_JDK_DEFLATER=false USE_JDK_INFLATER=false\n",
      "[Mon Nov 01 19:55:50 CDT 2021] Executing as hansetj1@cn1504.vampire on Linux 3.10.0-1160.36.2.el7.x86_64 amd64; OpenJDK 64-Bit Server VM 11.0.2+9; Deflater: Intel; Inflater: Intel; Provider GCS is not available; Picard version: 2.18.27-SNAPSHOT\n",
      "INFO\t2021-11-01 19:55:52\tSinglePassSamProgram\tProcessed     1,000,000 records.  Elapsed time: 00:00:02s.  Time for last 1,000,000:    2s.  Last read position: chr1:19,315,691\n",
      "INFO\t2021-11-01 19:55:55\tSinglePassSamProgram\tProcessed     2,000,000 records.  Elapsed time: 00:00:05s.  Time for last 1,000,000:    2s.  Last read position: chr1:32,964,928\n",
      "INFO\t2021-11-01 19:55:57\tSinglePassSamProgram\tProcessed     3,000,000 records.  Elapsed time: 00:00:07s.  Time for last 1,000,000:    2s.  Last read position: chr1:52,633,399\n",
      "INFO\t2021-11-01 19:56:00\tSinglePassSamProgram\tProcessed     4,000,000 records.  Elapsed time: 00:00:10s.  Time for last 1,000,000:    2s.  Last read position: chr1:100,038,175\n",
      "INFO\t2021-11-01 19:56:02\tSinglePassSamProgram\tProcessed     5,000,000 records.  Elapsed time: 00:00:11s.  Time for last 1,000,000:    1s.  Last read position: chr1:151,933,958\n",
      "INFO\t2021-11-01 19:56:04\tSinglePassSamProgram\tProcessed     6,000,000 records.  Elapsed time: 00:00:13s.  Time for last 1,000,000:    1s.  Last read position: chr1:173,868,683\n",
      "INFO\t2021-11-01 19:56:06\tSinglePassSamProgram\tProcessed     7,000,000 records.  Elapsed time: 00:00:16s.  Time for last 1,000,000:    2s.  Last read position: chr1:207,822,713\n",
      "INFO\t2021-11-01 19:56:08\tSinglePassSamProgram\tProcessed     8,000,000 records.  Elapsed time: 00:00:18s.  Time for last 1,000,000:    2s.  Last read position: chr1:236,273,362\n",
      "INFO\t2021-11-01 19:56:11\tSinglePassSamProgram\tProcessed     9,000,000 records.  Elapsed time: 00:00:20s.  Time for last 1,000,000:    2s.  Last read position: chr10:24,236,829\n",
      "INFO\t2021-11-01 19:56:13\tSinglePassSamProgram\tProcessed    10,000,000 records.  Elapsed time: 00:00:23s.  Time for last 1,000,000:    2s.  Last read position: chr10:70,233,182\n",
      "INFO\t2021-11-01 19:56:15\tSinglePassSamProgram\tProcessed    11,000,000 records.  Elapsed time: 00:00:25s.  Time for last 1,000,000:    2s.  Last read position: chr10:97,492,533\n",
      "INFO\t2021-11-01 19:56:17\tSinglePassSamProgram\tProcessed    12,000,000 records.  Elapsed time: 00:00:27s.  Time for last 1,000,000:    2s.  Last read position: chr10:124,970,872\n",
      "INFO\t2021-11-01 19:56:20\tSinglePassSamProgram\tProcessed    13,000,000 records.  Elapsed time: 00:00:30s.  Time for last 1,000,000:    2s.  Last read position: chr11:19,607,978\n",
      "INFO\t2021-11-01 19:56:22\tSinglePassSamProgram\tProcessed    14,000,000 records.  Elapsed time: 00:00:32s.  Time for last 1,000,000:    2s.  Last read position: chr11:62,612,544\n",
      "INFO\t2021-11-01 19:56:25\tSinglePassSamProgram\tProcessed    15,000,000 records.  Elapsed time: 00:00:34s.  Time for last 1,000,000:    2s.  Last read position: chr11:71,786,940\n",
      "INFO\t2021-11-01 19:56:27\tSinglePassSamProgram\tProcessed    16,000,000 records.  Elapsed time: 00:00:37s.  Time for last 1,000,000:    2s.  Last read position: chr11:111,410,211\n",
      "INFO\t2021-11-01 19:56:29\tSinglePassSamProgram\tProcessed    17,000,000 records.  Elapsed time: 00:00:39s.  Time for last 1,000,000:    2s.  Last read position: chr12:6,167,902\n",
      "INFO\t2021-11-01 19:56:31\tSinglePassSamProgram\tProcessed    18,000,000 records.  Elapsed time: 00:00:41s.  Time for last 1,000,000:    2s.  Last read position: chr12:45,728,952\n",
      "INFO\t2021-11-01 19:56:33\tSinglePassSamProgram\tProcessed    19,000,000 records.  Elapsed time: 00:00:43s.  Time for last 1,000,000:    2s.  Last read position: chr12:62,261,456\n",
      "INFO\t2021-11-01 19:56:35\tSinglePassSamProgram\tProcessed    20,000,000 records.  Elapsed time: 00:00:45s.  Time for last 1,000,000:    2s.  Last read position: chr12:104,611,325\n",
      "INFO\t2021-11-01 19:56:37\tSinglePassSamProgram\tProcessed    21,000,000 records.  Elapsed time: 00:00:47s.  Time for last 1,000,000:    2s.  Last read position: chr12:124,453,660\n",
      "INFO\t2021-11-01 19:56:40\tSinglePassSamProgram\tProcessed    22,000,000 records.  Elapsed time: 00:00:49s.  Time for last 1,000,000:    2s.  Last read position: chr13:41,061,820\n",
      "INFO\t2021-11-01 19:56:42\tSinglePassSamProgram\tProcessed    23,000,000 records.  Elapsed time: 00:00:52s.  Time for last 1,000,000:    2s.  Last read position: chr13:99,542,963\n",
      "INFO\t2021-11-01 19:56:44\tSinglePassSamProgram\tProcessed    24,000,000 records.  Elapsed time: 00:00:54s.  Time for last 1,000,000:    2s.  Last read position: chr14:35,404,635\n",
      "INFO\t2021-11-01 19:56:46\tSinglePassSamProgram\tProcessed    25,000,000 records.  Elapsed time: 00:00:56s.  Time for last 1,000,000:    2s.  Last read position: chr14:69,843,226\n",
      "INFO\t2021-11-01 19:56:48\tSinglePassSamProgram\tProcessed    26,000,000 records.  Elapsed time: 00:00:58s.  Time for last 1,000,000:    2s.  Last read position: chr14:100,306,558\n",
      "INFO\t2021-11-01 19:56:51\tSinglePassSamProgram\tProcessed    27,000,000 records.  Elapsed time: 00:01:00s.  Time for last 1,000,000:    2s.  Last read position: chr15:48,878,161\n",
      "INFO\t2021-11-01 19:56:53\tSinglePassSamProgram\tProcessed    28,000,000 records.  Elapsed time: 00:01:02s.  Time for last 1,000,000:    2s.  Last read position: chr15:74,615,624\n",
      "INFO\t2021-11-01 19:56:55\tSinglePassSamProgram\tProcessed    29,000,000 records.  Elapsed time: 00:01:05s.  Time for last 1,000,000:    2s.  Last read position: chr15:100,107,607\n",
      "INFO\t2021-11-01 19:56:57\tSinglePassSamProgram\tProcessed    30,000,000 records.  Elapsed time: 00:01:07s.  Time for last 1,000,000:    2s.  Last read position: chr16:17,301,904\n",
      "INFO\t2021-11-01 19:56:59\tSinglePassSamProgram\tProcessed    31,000,000 records.  Elapsed time: 00:01:09s.  Time for last 1,000,000:    2s.  Last read position: chr16:50,578,303\n",
      "INFO\t2021-11-01 19:57:02\tSinglePassSamProgram\tProcessed    32,000,000 records.  Elapsed time: 00:01:12s.  Time for last 1,000,000:    2s.  Last read position: chr16:77,953,971\n",
      "INFO\t2021-11-01 19:57:04\tSinglePassSamProgram\tProcessed    33,000,000 records.  Elapsed time: 00:01:14s.  Time for last 1,000,000:    2s.  Last read position: chr17:4,940,176\n",
      "INFO\t2021-11-01 19:57:06\tSinglePassSamProgram\tProcessed    34,000,000 records.  Elapsed time: 00:01:16s.  Time for last 1,000,000:    2s.  Last read position: chr17:28,484,403\n",
      "INFO\t2021-11-01 19:57:08\tSinglePassSamProgram\tProcessed    35,000,000 records.  Elapsed time: 00:01:18s.  Time for last 1,000,000:    2s.  Last read position: chr17:47,704,321\n"
     ]
    },
    {
     "name": "stdout",
     "output_type": "stream",
     "text": [
      "INFO\t2021-11-01 19:57:10\tSinglePassSamProgram\tProcessed    36,000,000 records.  Elapsed time: 00:01:20s.  Time for last 1,000,000:    2s.  Last read position: chr17:68,291,410\n",
      "INFO\t2021-11-01 19:57:12\tSinglePassSamProgram\tProcessed    37,000,000 records.  Elapsed time: 00:01:22s.  Time for last 1,000,000:    2s.  Last read position: chr17:82,598,997\n",
      "INFO\t2021-11-01 19:57:14\tSinglePassSamProgram\tProcessed    38,000,000 records.  Elapsed time: 00:01:24s.  Time for last 1,000,000:    2s.  Last read position: chr18:48,875,563\n",
      "INFO\t2021-11-01 19:57:17\tSinglePassSamProgram\tProcessed    39,000,000 records.  Elapsed time: 00:01:27s.  Time for last 1,000,000:    2s.  Last read position: chr19:2,051,319\n",
      "INFO\t2021-11-01 19:57:19\tSinglePassSamProgram\tProcessed    40,000,000 records.  Elapsed time: 00:01:29s.  Time for last 1,000,000:    2s.  Last read position: chr19:10,568,959\n",
      "INFO\t2021-11-01 19:57:21\tSinglePassSamProgram\tProcessed    41,000,000 records.  Elapsed time: 00:01:31s.  Time for last 1,000,000:    2s.  Last read position: chr19:18,281,427\n",
      "INFO\t2021-11-01 19:57:23\tSinglePassSamProgram\tProcessed    42,000,000 records.  Elapsed time: 00:01:33s.  Time for last 1,000,000:    2s.  Last read position: chr19:39,430,953\n",
      "INFO\t2021-11-01 19:57:25\tSinglePassSamProgram\tProcessed    43,000,000 records.  Elapsed time: 00:01:35s.  Time for last 1,000,000:    2s.  Last read position: chr19:48,646,470\n",
      "INFO\t2021-11-01 19:57:27\tSinglePassSamProgram\tProcessed    44,000,000 records.  Elapsed time: 00:01:37s.  Time for last 1,000,000:    2s.  Last read position: chr2:8,050,379\n",
      "INFO\t2021-11-01 19:57:30\tSinglePassSamProgram\tProcessed    45,000,000 records.  Elapsed time: 00:01:40s.  Time for last 1,000,000:    2s.  Last read position: chr2:38,109,415\n",
      "INFO\t2021-11-01 19:57:32\tSinglePassSamProgram\tProcessed    46,000,000 records.  Elapsed time: 00:01:42s.  Time for last 1,000,000:    2s.  Last read position: chr2:68,157,627\n",
      "INFO\t2021-11-01 19:57:34\tSinglePassSamProgram\tProcessed    47,000,000 records.  Elapsed time: 00:01:44s.  Time for last 1,000,000:    2s.  Last read position: chr2:100,395,394\n",
      "INFO\t2021-11-01 19:57:37\tSinglePassSamProgram\tProcessed    48,000,000 records.  Elapsed time: 00:01:46s.  Time for last 1,000,000:    2s.  Last read position: chr2:148,021,541\n",
      "INFO\t2021-11-01 19:57:39\tSinglePassSamProgram\tProcessed    49,000,000 records.  Elapsed time: 00:01:49s.  Time for last 1,000,000:    2s.  Last read position: chr2:197,206,009\n",
      "INFO\t2021-11-01 19:57:42\tSinglePassSamProgram\tProcessed    50,000,000 records.  Elapsed time: 00:01:51s.  Time for last 1,000,000:    2s.  Last read position: chr2:230,943,804\n",
      "INFO\t2021-11-01 19:57:44\tSinglePassSamProgram\tProcessed    51,000,000 records.  Elapsed time: 00:01:54s.  Time for last 1,000,000:    2s.  Last read position: chr20:17,677,559\n",
      "INFO\t2021-11-01 19:57:46\tSinglePassSamProgram\tProcessed    52,000,000 records.  Elapsed time: 00:01:56s.  Time for last 1,000,000:    2s.  Last read position: chr20:45,154,878\n",
      "INFO\t2021-11-01 19:57:48\tSinglePassSamProgram\tProcessed    53,000,000 records.  Elapsed time: 00:01:58s.  Time for last 1,000,000:    2s.  Last read position: chr21:22,714,705\n",
      "INFO\t2021-11-01 19:57:51\tSinglePassSamProgram\tProcessed    54,000,000 records.  Elapsed time: 00:02:01s.  Time for last 1,000,000:    2s.  Last read position: chr22:19,854,949\n",
      "INFO\t2021-11-01 19:57:53\tSinglePassSamProgram\tProcessed    55,000,000 records.  Elapsed time: 00:02:03s.  Time for last 1,000,000:    2s.  Last read position: chr22:39,021,043\n",
      "INFO\t2021-11-01 19:57:56\tSinglePassSamProgram\tProcessed    56,000,000 records.  Elapsed time: 00:02:05s.  Time for last 1,000,000:    2s.  Last read position: chr3:9,398,764\n",
      "INFO\t2021-11-01 19:57:58\tSinglePassSamProgram\tProcessed    57,000,000 records.  Elapsed time: 00:02:08s.  Time for last 1,000,000:    2s.  Last read position: chr3:42,590,485\n",
      "INFO\t2021-11-01 19:58:00\tSinglePassSamProgram\tProcessed    58,000,000 records.  Elapsed time: 00:02:10s.  Time for last 1,000,000:    2s.  Last read position: chr3:58,609,869\n",
      "INFO\t2021-11-01 19:58:03\tSinglePassSamProgram\tProcessed    59,000,000 records.  Elapsed time: 00:02:13s.  Time for last 1,000,000:    2s.  Last read position: chr3:121,548,782\n",
      "INFO\t2021-11-01 19:58:05\tSinglePassSamProgram\tProcessed    60,000,000 records.  Elapsed time: 00:02:15s.  Time for last 1,000,000:    2s.  Last read position: chr3:153,137,826\n",
      "INFO\t2021-11-01 19:58:08\tSinglePassSamProgram\tProcessed    61,000,000 records.  Elapsed time: 00:02:18s.  Time for last 1,000,000:    2s.  Last read position: chr3:194,769,307\n",
      "INFO\t2021-11-01 19:58:10\tSinglePassSamProgram\tProcessed    62,000,000 records.  Elapsed time: 00:02:20s.  Time for last 1,000,000:    2s.  Last read position: chr4:21,768,325\n",
      "INFO\t2021-11-01 19:58:12\tSinglePassSamProgram\tProcessed    63,000,000 records.  Elapsed time: 00:02:22s.  Time for last 1,000,000:    2s.  Last read position: chr4:78,775,974\n",
      "INFO\t2021-11-01 19:58:15\tSinglePassSamProgram\tProcessed    64,000,000 records.  Elapsed time: 00:02:25s.  Time for last 1,000,000:    2s.  Last read position: chr4:139,214,254\n",
      "INFO\t2021-11-01 19:58:18\tSinglePassSamProgram\tProcessed    65,000,000 records.  Elapsed time: 00:02:28s.  Time for last 1,000,000:    2s.  Last read position: chr5:1,249,604\n",
      "INFO\t2021-11-01 19:58:20\tSinglePassSamProgram\tProcessed    66,000,000 records.  Elapsed time: 00:02:30s.  Time for last 1,000,000:    2s.  Last read position: chr5:65,774,613\n",
      "INFO\t2021-11-01 19:58:23\tSinglePassSamProgram\tProcessed    67,000,000 records.  Elapsed time: 00:02:32s.  Time for last 1,000,000:    2s.  Last read position: chr5:112,921,095\n",
      "INFO\t2021-11-01 19:58:25\tSinglePassSamProgram\tProcessed    68,000,000 records.  Elapsed time: 00:02:35s.  Time for last 1,000,000:    2s.  Last read position: chr5:141,012,293\n",
      "INFO\t2021-11-01 19:58:27\tSinglePassSamProgram\tProcessed    69,000,000 records.  Elapsed time: 00:02:37s.  Time for last 1,000,000:    2s.  Last read position: chr5:172,807,440\n",
      "INFO\t2021-11-01 19:58:29\tSinglePassSamProgram\tProcessed    70,000,000 records.  Elapsed time: 00:02:39s.  Time for last 1,000,000:    2s.  Last read position: chr6:12,110,587\n",
      "INFO\t2021-11-01 19:58:32\tSinglePassSamProgram\tProcessed    71,000,000 records.  Elapsed time: 00:02:42s.  Time for last 1,000,000:    2s.  Last read position: chr6:37,160,996\n",
      "INFO\t2021-11-01 19:58:34\tSinglePassSamProgram\tProcessed    72,000,000 records.  Elapsed time: 00:02:44s.  Time for last 1,000,000:    2s.  Last read position: chr6:81,997,658\n",
      "INFO\t2021-11-01 19:58:37\tSinglePassSamProgram\tProcessed    73,000,000 records.  Elapsed time: 00:02:47s.  Time for last 1,000,000:    2s.  Last read position: chr6:132,300,498\n",
      "INFO\t2021-11-01 19:58:39\tSinglePassSamProgram\tProcessed    74,000,000 records.  Elapsed time: 00:02:49s.  Time for last 1,000,000:    2s.  Last read position: chr6:166,999,149\n",
      "INFO\t2021-11-01 19:58:41\tSinglePassSamProgram\tProcessed    75,000,000 records.  Elapsed time: 00:02:51s.  Time for last 1,000,000:    2s.  Last read position: chr7:26,600,058\n",
      "INFO\t2021-11-01 19:58:43\tSinglePassSamProgram\tProcessed    76,000,000 records.  Elapsed time: 00:02:53s.  Time for last 1,000,000:    2s.  Last read position: chr7:69,953,209\n",
      "INFO\t2021-11-01 19:58:45\tSinglePassSamProgram\tProcessed    77,000,000 records.  Elapsed time: 00:02:55s.  Time for last 1,000,000:    2s.  Last read position: chr7:102,306,990\n",
      "INFO\t2021-11-01 19:58:47\tSinglePassSamProgram\tProcessed    78,000,000 records.  Elapsed time: 00:02:57s.  Time for last 1,000,000:    2s.  Last read position: chr7:140,656,679\n",
      "INFO\t2021-11-01 19:58:50\tSinglePassSamProgram\tProcessed    79,000,000 records.  Elapsed time: 00:02:59s.  Time for last 1,000,000:    2s.  Last read position: chr8:22,684,123\n",
      "INFO\t2021-11-01 19:58:52\tSinglePassSamProgram\tProcessed    80,000,000 records.  Elapsed time: 00:03:02s.  Time for last 1,000,000:    2s.  Last read position: chr8:60,730,848\n",
      "INFO\t2021-11-01 19:58:54\tSinglePassSamProgram\tProcessed    81,000,000 records.  Elapsed time: 00:03:04s.  Time for last 1,000,000:    2s.  Last read position: chr8:102,557,001\n",
      "INFO\t2021-11-01 19:58:56\tSinglePassSamProgram\tProcessed    82,000,000 records.  Elapsed time: 00:03:06s.  Time for last 1,000,000:    2s.  Last read position: chr8:144,262,627\n"
     ]
    },
    {
     "name": "stdout",
     "output_type": "stream",
     "text": [
      "INFO\t2021-11-01 19:58:59\tSinglePassSamProgram\tProcessed    83,000,000 records.  Elapsed time: 00:03:09s.  Time for last 1,000,000:    2s.  Last read position: chr9:37,329,703\n",
      "INFO\t2021-11-01 19:59:01\tSinglePassSamProgram\tProcessed    84,000,000 records.  Elapsed time: 00:03:11s.  Time for last 1,000,000:    2s.  Last read position: chr9:99,820,041\n",
      "INFO\t2021-11-01 19:59:03\tSinglePassSamProgram\tProcessed    85,000,000 records.  Elapsed time: 00:03:13s.  Time for last 1,000,000:    2s.  Last read position: chr9:128,340,532\n",
      "INFO\t2021-11-01 19:59:05\tSinglePassSamProgram\tProcessed    86,000,000 records.  Elapsed time: 00:03:15s.  Time for last 1,000,000:    1s.  Last read position: chrX:12,951,039\n",
      "INFO\t2021-11-01 19:59:07\tSinglePassSamProgram\tProcessed    87,000,000 records.  Elapsed time: 00:03:17s.  Time for last 1,000,000:    1s.  Last read position: chrX:70,434,483\n",
      "INFO\t2021-11-01 19:59:09\tSinglePassSamProgram\tProcessed    88,000,000 records.  Elapsed time: 00:03:19s.  Time for last 1,000,000:    1s.  Last read position: chrX:154,486,644\n",
      "INFO\t2021-11-01 19:59:09\tRExecutor\tExecuting R script via command: Rscript /tmp/hansetj1/script12772476777927851453.R /data/hodges_lab/ATAC-STARR_B-cells/results/library_complexity/picard-CISM/GM12878inGM12878_DNA_Rep3_picard-CISM.txt /data/hodges_lab/ATAC-STARR_B-cells/results/library_complexity/picard-CISM/GM12878inGM12878_DNA_Rep3_histogram.pdf GM12878inGM12878_DNA_Rep3.filtered.pos-sorted.bam\n",
      "INFO\t2021-11-01 19:59:11\tProcessExecutor\tnull device \n",
      "INFO\t2021-11-01 19:59:11\tProcessExecutor\t          1 \n",
      "[Mon Nov 01 19:59:11 CDT 2021] picard.analysis.CollectInsertSizeMetrics done. Elapsed time: 3.36 minutes.\n",
      "Runtime.totalMemory()=3783262208\n"
     ]
    }
   ],
   "source": [
    "%%bash\n",
    "module restore picard # I didn't conda install picard due to convience, but it should be strait forward to do so.\n",
    "\n",
    "QC_DIR='/data/hodges_lab/ATAC-STARR_B-cells/results/library_complexity'\n",
    "BAM_DIR='/data/hodges_lab/ATAC-STARR_B-cells/data/ATAC-STARR/bams/individual_replicates'\n",
    "\n",
    "#Here is an example for one of our samples.\n",
    "java -jar $EBROOTPICARD/picard.jar CollectInsertSizeMetrics I=${BAM_DIR}/GM12878inGM12878_DNA_Rep3.filtered.pos-sorted.bam \\\n",
    "    H=${QC_DIR}/picard-CISM/GM12878inGM12878_DNA_Rep3_histogram.pdf \\\n",
    "    O=${QC_DIR}/picard-CISM/GM12878inGM12878_DNA_Rep3_picard-CISM.txt"
   ]
  },
  {
   "cell_type": "markdown",
   "id": "46548b26",
   "metadata": {},
   "source": [
    "### Plot insert size distribution\n",
    "\n",
    "Kernel switched to R."
   ]
  },
  {
   "cell_type": "code",
   "execution_count": 10,
   "id": "5b2e538c",
   "metadata": {},
   "outputs": [],
   "source": [
    "#load R packages\n",
    "library(tidyverse)\n",
    "library(ggsci)"
   ]
  },
  {
   "cell_type": "code",
   "execution_count": 11,
   "id": "1e6c6e03",
   "metadata": {},
   "outputs": [],
   "source": [
    "#make function for reading in the picard ISM results files. \n",
    "read_ISM <- function(input_file, condition, library_type){\n",
    "  #This function reads in the lcextrap txt file and assigns descriptors of the data to new columns for use in plotting. \n",
    "  #condition example is \"GM12878inGM12878\", library_type example is \"DNA_Rep1\"\n",
    "  tsv <- read_tsv(input_file, skip = 12, col_names = FALSE) %>% mutate(condition=condition, Type=library_type)\n",
    "  return(mutate(tsv, cpm=(X2/sum(tsv$X2))*1e6))\n",
    "}"
   ]
  },
  {
   "cell_type": "code",
   "execution_count": 12,
   "id": "66ece6d0",
   "metadata": {
    "scrolled": true
   },
   "outputs": [
    {
     "name": "stderr",
     "output_type": "stream",
     "text": [
      "\n",
      "\u001b[36m──\u001b[39m \u001b[1m\u001b[1mColumn specification\u001b[1m\u001b[22m \u001b[36m────────────────────────────────────────────────────────\u001b[39m\n",
      "cols(\n",
      "  X1 = \u001b[32mcol_double()\u001b[39m,\n",
      "  X2 = \u001b[32mcol_double()\u001b[39m,\n",
      "  X3 = \u001b[32mcol_double()\u001b[39m\n",
      ")\n",
      "\n",
      "\n",
      "\n",
      "\u001b[36m──\u001b[39m \u001b[1m\u001b[1mColumn specification\u001b[1m\u001b[22m \u001b[36m────────────────────────────────────────────────────────\u001b[39m\n",
      "cols(\n",
      "  X1 = \u001b[32mcol_double()\u001b[39m,\n",
      "  X2 = \u001b[32mcol_double()\u001b[39m,\n",
      "  X3 = \u001b[32mcol_double()\u001b[39m\n",
      ")\n",
      "\n",
      "\n",
      "\n",
      "\u001b[36m──\u001b[39m \u001b[1m\u001b[1mColumn specification\u001b[1m\u001b[22m \u001b[36m────────────────────────────────────────────────────────\u001b[39m\n",
      "cols(\n",
      "  X1 = \u001b[32mcol_double()\u001b[39m,\n",
      "  X2 = \u001b[32mcol_double()\u001b[39m\n",
      ")\n",
      "\n",
      "\n",
      "\n",
      "\u001b[36m──\u001b[39m \u001b[1m\u001b[1mColumn specification\u001b[1m\u001b[22m \u001b[36m────────────────────────────────────────────────────────\u001b[39m\n",
      "cols(\n",
      "  X1 = \u001b[32mcol_double()\u001b[39m,\n",
      "  X2 = \u001b[32mcol_double()\u001b[39m,\n",
      "  X3 = \u001b[32mcol_double()\u001b[39m\n",
      ")\n",
      "\n",
      "\n",
      "\n",
      "\u001b[36m──\u001b[39m \u001b[1m\u001b[1mColumn specification\u001b[1m\u001b[22m \u001b[36m────────────────────────────────────────────────────────\u001b[39m\n",
      "cols(\n",
      "  X1 = \u001b[32mcol_double()\u001b[39m,\n",
      "  X2 = \u001b[32mcol_double()\u001b[39m,\n",
      "  X3 = \u001b[32mcol_double()\u001b[39m\n",
      ")\n",
      "\n",
      "\n",
      "\n",
      "\u001b[36m──\u001b[39m \u001b[1m\u001b[1mColumn specification\u001b[1m\u001b[22m \u001b[36m────────────────────────────────────────────────────────\u001b[39m\n",
      "cols(\n",
      "  X1 = \u001b[32mcol_double()\u001b[39m,\n",
      "  X2 = \u001b[32mcol_double()\u001b[39m\n",
      ")\n",
      "\n",
      "\n"
     ]
    },
    {
     "data": {
      "image/png": "[encoded data removed]",
      "text/plain": [
       "plot without title"
      ]
     },
     "metadata": {
      "image/png": {
       "height": 420,
       "width": 420
      }
     },
     "output_type": "display_data"
    }
   ],
   "source": [
    "#Read in results and assign to unique data.frame objects. \n",
    "setwd(\"/data/hodges_lab/ATAC-STARR_B-cells/results/library_complexity/\")\n",
    "GGD1 <- read_ISM(input_file = 'picard-CISM/GM12878inGM12878_DNA_Rep1_picard-CISM.txt', \n",
    "                 condition = \"DNA\", library_type = \"Rep1\")\n",
    "GGD2 <- read_ISM(input_file = 'picard-CISM/GM12878inGM12878_DNA_Rep2_picard-CISM.txt', \n",
    "                 condition = \"DNA\", library_type = \"Rep2\")\n",
    "GGD3 <- read_ISM(input_file = 'picard-CISM/GM12878inGM12878_DNA_Rep3_picard-CISM.txt', \n",
    "                 condition = \"DNA\", library_type = \"Rep3\")\n",
    "GGR1 <- read_ISM(input_file = 'picard-CISM/GM12878inGM12878_RNA_Rep1_picard-CISM.txt', \n",
    "                 condition = \"RNA\", library_type = \"Rep1\")\n",
    "GGR2 <- read_ISM(input_file = 'picard-CISM/GM12878inGM12878_RNA_Rep2_picard-CISM.txt', \n",
    "                 condition = \"RNA\", library_type = \"Rep2\")\n",
    "GGR3 <- read_ISM(input_file = 'picard-CISM/GM12878inGM12878_RNA_Rep3_picard-CISM.txt', \n",
    "                 condition = \"RNA\", library_type = \"Rep3\")\n",
    "\n",
    "#Merge into one dataframe. \n",
    "ISM_all <- bind_rows(GGD1, GGD2, GGD3, GGR1, GGR2, GGR3)\n",
    "\n",
    "#Plot:\n",
    "ISM_plot <- ggplot(ISM_all, aes(x=X1, y=cpm)) +\n",
    "  geom_line(size = 0.5) +\n",
    "  facet_grid(rows = vars(Type), cols = vars(condition)) +\n",
    "  coord_cartesian(x=c(0,500)) +\n",
    "  scale_x_continuous(breaks = seq(0, 500, by = 100)) +\n",
    "  scale_color_manual(values = c(\"black\", \"black\", \"black\", \"black\", \"black\", \"black\")) +\n",
    "  xlab(\"Insert Size (bp)\") + \n",
    "  ylab(\"Counts per Million\") +\n",
    "  ggtitle(\"Insert Size Distribution of ATAC-STARR-seq Libraries\") +\n",
    "  theme_bw(base_size = 8, base_family = \"Arial\") +\n",
    "  theme(plot.title = element_text(hjust = 0.5, size = 12, face = \"bold\"), \n",
    "        strip.text.x = element_text(size = 8, family = \"Arial\", face = \"italic\", color = \"black\"),\n",
    "        strip.text.y = element_text(size = 8, family = \"Arial\", face = \"plain\", color = \"black\"),\n",
    "        strip.background = element_rect(fill = \"lightgray\"), \n",
    "        legend.position = \"none\")\n",
    "\n",
    "ISM_plot"
   ]
  },
  {
   "cell_type": "code",
   "execution_count": 17,
   "id": "cffc6909",
   "metadata": {},
   "outputs": [],
   "source": [
    "ggsave(filename = \"/data/hodges_lab/ATAC-STARR_B-cells/results/library_complexity/InsertSizeMetrics_gg-samples.pdf\", \n",
    "    plot = ISM_plot, units = \"in\", width = 4, height = 3, device = cairo_pdf)"
   ]
  }
 ],
 "metadata": {
  "kernelspec": {
   "display_name": "Tyler Jupyter",
   "language": "python",
   "name": "jupyter"
  },
  "language_info": {
   "codemirror_mode": {
    "name": "ipython",
    "version": 3
   },
   "file_extension": ".py",
   "mimetype": "text/x-python",
   "name": "python",
   "nbconvert_exporter": "python",
   "pygments_lexer": "ipython3",
   "version": "3.6.15"
  },
  "toc": {
   "base_numbering": 1,
   "nav_menu": {},
   "number_sections": true,
   "sideBar": true,
   "skip_h1_title": true,
   "title_cell": "Table of Contents",
   "title_sidebar": "Contents",
   "toc_cell": false,
   "toc_position": {
    "height": "calc(100% - 180px)",
    "left": "10px",
    "top": "150px",
    "width": "304.216px"
   },
   "toc_section_display": true,
   "toc_window_display": true
  },
  "varInspector": {
   "cols": {
    "lenName": 16,
    "lenType": 16,
    "lenVar": 40
   },
   "kernels_config": {
    "python": {
     "delete_cmd_postfix": "",
     "delete_cmd_prefix": "del ",
     "library": "var_list.py",
     "varRefreshCmd": "print(var_dic_list())"
    },
    "r": {
     "delete_cmd_postfix": ") ",
     "delete_cmd_prefix": "rm(",
     "library": "var_list.r",
     "varRefreshCmd": "cat(var_dic_list()) "
    }
   },
   "types_to_exclude": [
    "module",
    "function",
    "builtin_function_or_method",
    "instance",
    "_Feature"
   ],
   "window_display": false
  }
 },
 "nbformat": 4,
 "nbformat_minor": 5
}
