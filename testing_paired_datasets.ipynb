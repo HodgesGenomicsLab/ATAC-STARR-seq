{
 "cells": [
  {
   "cell_type": "markdown",
   "id": "c0dc52d0",
   "metadata": {},
   "source": [
    "# Introduction\n",
    "\n",
    "Emily brought a great point in my last lab meeting about how our dataset is paired. In our case DNA rep1 is paired to RNA rep1 and so forth. Most MPRA datasets are unlike this, so it would be advantagous to use this in our statistical analyses. \n",
    "\n",
    "Specifcally, I looked at DESeq2 and you can specify data that is paired. I want to test if using paired data improves region recall at all. "
   ]
  },
  {
   "cell_type": "markdown",
   "id": "1529f784",
   "metadata": {},
   "source": [
    "# Call active regions using paired DESeq2 strategy. "
   ]
  },
  {
   "cell_type": "code",
   "execution_count": 3,
   "id": "f635be08",
   "metadata": {
    "scrolled": true
   },
   "outputs": [
    {
     "name": "stderr",
     "output_type": "stream",
     "text": [
      "Loading required package: GenomicRanges\n",
      "\n",
      "Loading required package: SummarizedExperiment\n",
      "\n",
      "Loading required package: MatrixGenerics\n",
      "\n",
      "Loading required package: matrixStats\n",
      "\n",
      "\n",
      "Attaching package: ‘MatrixGenerics’\n",
      "\n",
      "\n",
      "The following objects are masked from ‘package:matrixStats’:\n",
      "\n",
      "    colAlls, colAnyNAs, colAnys, colAvgsPerRowSet, colCollapse,\n",
      "    colCounts, colCummaxs, colCummins, colCumprods, colCumsums,\n",
      "    colDiffs, colIQRDiffs, colIQRs, colLogSumExps, colMadDiffs,\n",
      "    colMads, colMaxs, colMeans2, colMedians, colMins, colOrderStats,\n",
      "    colProds, colQuantiles, colRanges, colRanks, colSdDiffs, colSds,\n",
      "    colSums2, colTabulates, colVarDiffs, colVars, colWeightedMads,\n",
      "    colWeightedMeans, colWeightedMedians, colWeightedSds,\n",
      "    colWeightedVars, rowAlls, rowAnyNAs, rowAnys, rowAvgsPerColSet,\n",
      "    rowCollapse, rowCounts, rowCummaxs, rowCummins, rowCumprods,\n",
      "    rowCumsums, rowDiffs, rowIQRDiffs, rowIQRs, rowLogSumExps,\n",
      "    rowMadDiffs, rowMads, rowMaxs, rowMeans2, rowMedians, rowMins,\n",
      "    rowOrderStats, rowProds, rowQuantiles, rowRanges, rowRanks,\n",
      "    rowSdDiffs, rowSds, rowSums2, rowTabulates, rowVarDiffs, rowVars,\n",
      "    rowWeightedMads, rowWeightedMeans, rowWeightedMedians,\n",
      "    rowWeightedSds, rowWeightedVars\n",
      "\n",
      "\n",
      "Loading required package: Biobase\n",
      "\n",
      "Welcome to Bioconductor\n",
      "\n",
      "    Vignettes contain introductory material; view with\n",
      "    'browseVignettes()'. To cite Bioconductor, see\n",
      "    'citation(\"Biobase\")', and for packages 'citation(\"pkgname\")'.\n",
      "\n",
      "\n",
      "\n",
      "Attaching package: ‘Biobase’\n",
      "\n",
      "\n",
      "The following object is masked from ‘package:MatrixGenerics’:\n",
      "\n",
      "    rowMedians\n",
      "\n",
      "\n",
      "The following objects are masked from ‘package:matrixStats’:\n",
      "\n",
      "    anyMissing, rowMedians\n",
      "\n",
      "\n",
      "── \u001b[1mAttaching packages\u001b[22m ─────────────────────────────────────── tidyverse 1.3.1 ──\n",
      "\n",
      "\u001b[32m✔\u001b[39m \u001b[34mggplot2\u001b[39m 3.3.5     \u001b[32m✔\u001b[39m \u001b[34mpurrr  \u001b[39m 0.3.4\n",
      "\u001b[32m✔\u001b[39m \u001b[34mtibble \u001b[39m 3.1.3     \u001b[32m✔\u001b[39m \u001b[34mdplyr  \u001b[39m 1.0.7\n",
      "\u001b[32m✔\u001b[39m \u001b[34mtidyr  \u001b[39m 1.1.3     \u001b[32m✔\u001b[39m \u001b[34mstringr\u001b[39m 1.4.0\n",
      "\u001b[32m✔\u001b[39m \u001b[34mreadr  \u001b[39m 1.4.0     \u001b[32m✔\u001b[39m \u001b[34mforcats\u001b[39m 0.5.1\n",
      "\n",
      "── \u001b[1mConflicts\u001b[22m ────────────────────────────────────────── tidyverse_conflicts() ──\n",
      "\u001b[31m✖\u001b[39m \u001b[34mdplyr\u001b[39m::\u001b[32mcollapse()\u001b[39m   masks \u001b[34mIRanges\u001b[39m::collapse()\n",
      "\u001b[31m✖\u001b[39m \u001b[34mdplyr\u001b[39m::\u001b[32mcombine()\u001b[39m    masks \u001b[34mBiobase\u001b[39m::combine(), \u001b[34mBiocGenerics\u001b[39m::combine()\n",
      "\u001b[31m✖\u001b[39m \u001b[34mdplyr\u001b[39m::\u001b[32mcount()\u001b[39m      masks \u001b[34mmatrixStats\u001b[39m::count()\n",
      "\u001b[31m✖\u001b[39m \u001b[34mdplyr\u001b[39m::\u001b[32mdesc()\u001b[39m       masks \u001b[34mIRanges\u001b[39m::desc()\n",
      "\u001b[31m✖\u001b[39m \u001b[34mtidyr\u001b[39m::\u001b[32mexpand()\u001b[39m     masks \u001b[34mS4Vectors\u001b[39m::expand()\n",
      "\u001b[31m✖\u001b[39m \u001b[34mdplyr\u001b[39m::\u001b[32mfilter()\u001b[39m     masks \u001b[34mstats\u001b[39m::filter()\n",
      "\u001b[31m✖\u001b[39m \u001b[34mdplyr\u001b[39m::\u001b[32mfirst()\u001b[39m      masks \u001b[34mS4Vectors\u001b[39m::first()\n",
      "\u001b[31m✖\u001b[39m \u001b[34mdplyr\u001b[39m::\u001b[32mlag()\u001b[39m        masks \u001b[34mstats\u001b[39m::lag()\n",
      "\u001b[31m✖\u001b[39m \u001b[34mggplot2\u001b[39m::\u001b[32mPosition()\u001b[39m masks \u001b[34mBiocGenerics\u001b[39m::Position(), \u001b[34mbase\u001b[39m::Position()\n",
      "\u001b[31m✖\u001b[39m \u001b[34mpurrr\u001b[39m::\u001b[32mreduce()\u001b[39m     masks \u001b[34mGenomicRanges\u001b[39m::reduce(), \u001b[34mIRanges\u001b[39m::reduce()\n",
      "\u001b[31m✖\u001b[39m \u001b[34mdplyr\u001b[39m::\u001b[32mrename()\u001b[39m     masks \u001b[34mS4Vectors\u001b[39m::rename()\n",
      "\u001b[31m✖\u001b[39m \u001b[34mdplyr\u001b[39m::\u001b[32mslice()\u001b[39m      masks \u001b[34mIRanges\u001b[39m::slice()\n",
      "\n"
     ]
    }
   ],
   "source": [
    "#read in libraries and counts matrix. Convert counts_df to a matrix. \n",
    "library(DESeq2)\n",
    "library(tidyverse)\n",
    "library(apeglm)\n",
    "\n",
    "dir <- '/data/hodges_lab/ATAC-STARR_V2'\n",
    "\n",
    "#Read in counts matrix\n",
    "cts_df <- read_tsv(paste0(dir,'/data/activity/individual/cts_matricies/bin-method/GM12878inGM12878_counts_bin-method_50bp-bins_with-duplicates.tsv'), \n",
    "                   col_names = c(\"Bin_ID\", \"Chr\", \"Start\", \"End\", \"Strand\", \"Length\", \"DNA1\", \"DNA2\", \"RNA1\", \"RNA2\"), \n",
    "                   col_types = \"cciiciiiii\", skip = 2)\n",
    "\n",
    "#Convert cts to a matrix of integer counts with row names represented by Peak_ID.\n",
    "cts_matrix <- as.matrix(dplyr::select(cts_df, Bin_ID, DNA1, DNA2, RNA1, RNA2) %>% column_to_rownames(var = \"Bin_ID\"))"
   ]
  },
  {
   "cell_type": "code",
   "execution_count": 4,
   "id": "acbba4a5",
   "metadata": {},
   "outputs": [
    {
     "data": {
      "text/html": [
       "<table class=\"dataframe\">\n",
       "<caption>A data.frame: 4 × 2</caption>\n",
       "<thead>\n",
       "\t<tr><th></th><th scope=col>condition</th><th scope=col>paired_trial</th></tr>\n",
       "\t<tr><th></th><th scope=col>&lt;chr&gt;</th><th scope=col>&lt;chr&gt;</th></tr>\n",
       "</thead>\n",
       "<tbody>\n",
       "\t<tr><th scope=row>DNA1</th><td>DNA</td><td>trial1</td></tr>\n",
       "\t<tr><th scope=row>DNA2</th><td>DNA</td><td>trial2</td></tr>\n",
       "\t<tr><th scope=row>RNA1</th><td>RNA</td><td>trial1</td></tr>\n",
       "\t<tr><th scope=row>RNA2</th><td>RNA</td><td>trial2</td></tr>\n",
       "</tbody>\n",
       "</table>\n"
      ],
      "text/latex": [
       "A data.frame: 4 × 2\n",
       "\\begin{tabular}{r|ll}\n",
       "  & condition & paired\\_trial\\\\\n",
       "  & <chr> & <chr>\\\\\n",
       "\\hline\n",
       "\tDNA1 & DNA & trial1\\\\\n",
       "\tDNA2 & DNA & trial2\\\\\n",
       "\tRNA1 & RNA & trial1\\\\\n",
       "\tRNA2 & RNA & trial2\\\\\n",
       "\\end{tabular}\n"
      ],
      "text/markdown": [
       "\n",
       "A data.frame: 4 × 2\n",
       "\n",
       "| <!--/--> | condition &lt;chr&gt; | paired_trial &lt;chr&gt; |\n",
       "|---|---|---|\n",
       "| DNA1 | DNA | trial1 |\n",
       "| DNA2 | DNA | trial2 |\n",
       "| RNA1 | RNA | trial1 |\n",
       "| RNA2 | RNA | trial2 |\n",
       "\n"
      ],
      "text/plain": [
       "     condition paired_trial\n",
       "DNA1 DNA       trial1      \n",
       "DNA2 DNA       trial2      \n",
       "RNA1 RNA       trial1      \n",
       "RNA2 RNA       trial2      "
      ]
     },
     "metadata": {},
     "output_type": "display_data"
    },
    {
     "data": {
      "text/html": [
       "TRUE"
      ],
      "text/latex": [
       "TRUE"
      ],
      "text/markdown": [
       "TRUE"
      ],
      "text/plain": [
       "[1] TRUE"
      ]
     },
     "metadata": {},
     "output_type": "display_data"
    },
    {
     "name": "stderr",
     "output_type": "stream",
     "text": [
      "Warning message in DESeqDataSet(se, design = design, ignoreRank):\n",
      "“some variables in design formula are characters, converting to factors”\n"
     ]
    }
   ],
   "source": [
    "#Prepare DESeq2 object for analysis. This is where the key difference in defining paired lies. \n",
    "\n",
    "#Prepare dataframe of sample info\n",
    "condition <- c(\"DNA\", \"DNA\", \"RNA\", \"RNA\")\n",
    "paired_trial <- c(\"trial1\", \"trial2\", \"trial1\", \"trial2\")\n",
    "RNames <- c(\"DNA1\", \"DNA2\", \"RNA1\", \"RNA2\")\n",
    "\n",
    "coldata <- data.frame(row.names = RNames, condition, paired_trial)\n",
    "\n",
    "head(coldata)\n",
    "\n",
    "#Check that coldata matches cts. \n",
    "all(rownames(coldata) == colnames(cts_matrix))\n",
    "\n",
    "#Set up experimental design for DEseq2\n",
    "dds <- DESeqDataSetFromMatrix(countData = cts_matrix, colData = coldata, design = ~ paired_trial + condition)"
   ]
  },
  {
   "cell_type": "code",
   "execution_count": 5,
   "id": "2e92241e",
   "metadata": {},
   "outputs": [
    {
     "name": "stderr",
     "output_type": "stream",
     "text": [
      "estimating size factors\n",
      "\n",
      "estimating dispersions\n",
      "\n",
      "gene-wise dispersion estimates: 4 workers\n",
      "\n",
      "mean-dispersion relationship\n",
      "\n",
      "final dispersion estimates, fitting model and testing: 4 workers\n",
      "\n",
      "using 'apeglm' for LFC shrinkage. If used in published research, please cite:\n",
      "    Zhu, A., Ibrahim, J.G., Love, M.I. (2018) Heavy-tailed prior distributions for\n",
      "    sequence count data: removing the noise and preserving large differences.\n",
      "    Bioinformatics. https://doi.org/10.1093/bioinformatics/bty895\n",
      "\n"
     ]
    }
   ],
   "source": [
    "#Perform differential analysis and extract results. \n",
    "\n",
    "#info to make parallel\n",
    "library(BiocParallel)\n",
    "register(MulticoreParam(4))\n",
    "\n",
    "#differential expression analysis. Use local. I tried all three, mean has a poor fit and parametric defaults to local anyway. \n",
    "dds <- DESeq(dds, fitType=\"local\", parallel=TRUE, BPPARAM=MulticoreParam(4))\n",
    "\n",
    "#Extract results: RNA/DNA. lfcShrink with apeglm. \n",
    "res <- lfcShrink(dds, coef=\"condition_RNA_vs_DNA\", type=\"apeglm\", parallel=TRUE, BPPARAM=MulticoreParam(4)) \n",
    "\n",
    "#Convert to df and add Bin_ID column from rownames. \n",
    "res_df <- as.data.frame(res) %>% rownames_to_column(var = \"Bin_ID\")"
   ]
  },
  {
   "cell_type": "code",
   "execution_count": 7,
   "id": "469287fc",
   "metadata": {},
   "outputs": [],
   "source": [
    "#Extract and save active & silent bins. \n",
    "\n",
    "#Obtain active bins using the following filters: padj < 0.1 and l2fc > 0. \n",
    "active <- filter(res_df, padj < 0.1) %>% filter(log2FoldChange > 0) \n",
    "\n",
    "#Add positional information back by joining with cts_df. Then format to bed (log2Fc as score) and sort by position.  \n",
    "active_bed <- left_join(active, cts_df, by = c(\"Bin_ID\" = \"Bin_ID\"), keep = FALSE) %>% \n",
    "           dplyr::select(Chr, Start, End, Bin_ID, log2FoldChange, Strand) %>% \n",
    "           dplyr::arrange(Chr, Start, End)\n",
    "\n",
    "#Obtain silent bins using the following filters: padj < 0.1 and l2fc < 0. \n",
    "silent <- filter(res_df, padj < 0.1) %>% filter(log2FoldChange < 0) \n",
    "\n",
    "#Add positional information back by joining with cts_df. Then format to bed (log2Fc as score) and sort by position.  \n",
    "silent_bed <- left_join(silent, cts_df, by = c(\"Bin_ID\" = \"Bin_ID\"), keep = FALSE) %>% \n",
    "           dplyr::select(Chr, Start, End, Bin_ID, log2FoldChange, Strand) %>% \n",
    "           dplyr::arrange(Chr, Start, End)\n",
    "\n",
    "#Save active and silent bed files. \n",
    "write_tsv(active_bed, paste0(dir, \"/data/activity/individual/DESeq2_results/bin-method/GM12878inGM12878_active_0.1padj_50-bin_paired.bed\"), col_names = FALSE)\n",
    "write_tsv(silent_bed, paste0(dir, \"/data/activity/individual/DESeq2_results/bin-method/GM12878inGM12878_silent_0.1padj_50-bin_paired.bed\"), col_names = FALSE)"
   ]
  },
  {
   "cell_type": "code",
   "execution_count": 1,
   "id": "c10851b3",
   "metadata": {},
   "outputs": [
    {
     "name": "stdout",
     "output_type": "stream",
     "text": [
      "Restoring modules from user's tools\n",
      "7050\n",
      "16249\n"
     ]
    }
   ],
   "source": [
    "DATA_DIR='/data/hodges_lab/ATAC-STARR_V2/data/activity/individual/DESeq2_results/bin-method'\n",
    "\n",
    "module restore tools\n",
    "\n",
    "bedtools merge -c 5 -o mean -i ${DATA_DIR}/GM12878inGM12878_active_0.1padj_50-bin_paired.bed | wc -l \n",
    "bedtools merge -c 5 -o mean -i ${DATA_DIR}/GM12878inGM12878_silent_0.1padj_50-bin_paired.bed | wc -l "
   ]
  },
  {
   "cell_type": "markdown",
   "id": "c8bb3161",
   "metadata": {},
   "source": [
    "# Summary\n",
    "\n",
    "This actually resulted in fewer regions called as active. This seems like a dead end. "
   ]
  }
 ],
 "metadata": {
  "kernelspec": {
   "display_name": "Bash",
   "language": "bash",
   "name": "bash"
  },
  "language_info": {
   "codemirror_mode": "shell",
   "file_extension": ".sh",
   "mimetype": "text/x-sh",
   "name": "bash"
  },
  "toc": {
   "base_numbering": 1,
   "nav_menu": {},
   "number_sections": true,
   "sideBar": true,
   "skip_h1_title": false,
   "title_cell": "Table of Contents",
   "title_sidebar": "Contents",
   "toc_cell": false,
   "toc_position": {},
   "toc_section_display": true,
   "toc_window_display": true
  }
 },
 "nbformat": 4,
 "nbformat_minor": 5
}
